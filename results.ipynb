{
 "cells": [
  {
   "cell_type": "code",
   "execution_count": null,
   "metadata": {},
   "outputs": [],
   "source": [
    "import numpy as np\n",
    "import matplotlib.pyplot as plt\n",
    "plt.rc('text', usetex=True)\n",
    "plt.rc('font', family='serif')"
   ]
  },
  {
   "cell_type": "markdown",
   "metadata": {},
   "source": [
    "Results without hidden layers"
   ]
  },
  {
   "cell_type": "code",
   "execution_count": null,
   "metadata": {},
   "outputs": [],
   "source": [
    "expert2 = 'PWA'\n",
    "eta_output = 0.0005\n",
    "\n",
    "if expert2 == 'EWA':\n",
    "    accuracy1 = np.load(f\"ccuracy_{expert2}_{eta_output}_90.npy\")\n",
    "    accuracy2 = np.load(f\"accuracy_{expert2}_{eta_output}_10.npy\")\n",
    "    accuracy = np.concatenate((accuracy1,accuracy2))\n",
    "else:\n",
    "    accuracy = np.load(f\"accuracy_{expert2}_{eta_output}_100.npy\")\n",
    "A = np.shape(accuracy)[0]\n",
    "accuracy = np.sort(accuracy)\n",
    "inf = int(A*0.1)\n",
    "sup = int(A*0.9)\n",
    "moy = np.sum(accuracy) / A\n",
    "\n",
    "print('moy', moy)\n",
    "print('inf', accuracy[inf])\n",
    "print('sup', accuracy[sup])\n",
    "\n"
   ]
  },
  {
   "cell_type": "markdown",
   "metadata": {},
   "source": [
    "Results with one hidden layer"
   ]
  },
  {
   "cell_type": "code",
   "execution_count": null,
   "metadata": {},
   "outputs": [],
   "source": [
    "expert1 = 'EWA'\n",
    "expert2='EWA'\n",
    "expert1bis = 'PWA'\n",
    "expert2bis = 'PWA'\n",
    "eta_output = 0.002\n",
    "eta_output_all = 0.007\n",
    "K_mid_new = np.array([10,20,30,40,50,60,70,80,90,100,110,120,130,140,150, 160, 170, 180, 190, 200]) #300 computed\n",
    "n = K_mid_new.shape[0]\n",
    "K_mid_new_all = np.array([10, 20, 30, 40, 50, 60, 70, 80, 90, 100, 110,120, 130, 140, 150, 160, 170, 180, 190, 200])\n",
    "n_all = K_mid_new_all.shape[0]\n",
    "accuracy = np.zeros((n))\n",
    "accuracy_PWA = np.zeros((n))\n",
    "accuracy_all = np.zeros((n_all))\n",
    "for k in range(n):\n",
    "    accuracy[k] =100* np.sum(np.load(f\"accuracy_{expert1}_{expert2}_{K_mid_new[k]}_{eta_output}_10.npy\") )/ 10\n",
    "    accuracy_PWA[k] = 100* np.sum(np.load(f\"accuracy_{expert1bis}_{expert2bis}_{K_mid_new[k]}_{eta_output}_10.npy\") )/ 10\n",
    "for k in range(n_all):\n",
    "    accuracy_all[k] = 100*  np.sum(np.load(f\"accuracy_all_{expert1}_{expert2}_{K_mid_new_all[k]}_{eta_output_all}_10.npy\") )/ 10\n",
    "\n",
    "\n",
    "plt.figure(figsize=(4.5,3))\n",
    "plt.plot(K_mid_new, accuracy, label = \"CHANI with EWA\")\n",
    "plt.plot(K_mid_new, accuracy_PWA, label = \"CHANI with PWA\")\n",
    "plt.plot(K_mid_new_all, accuracy_all, label = \"CHANI with EWA and extra connections\")\n",
    "plt.yticks([ 20, 30, 40, 50,60,70,80,90])\n",
    "plt.xticks([0,50,100, 150, 200])\n",
    "plt.xlabel('Number of selected neurons')\n",
    "plt.ylabel('Accuracy')\n",
    "plt.legend()\n",
    "plt.savefig('accuracy_EWA_EWA.pdf', bbox_inches='tight')\n",
    "plt.show()"
   ]
  },
  {
   "cell_type": "markdown",
   "metadata": {},
   "source": [
    "Results with 2 hidden layers"
   ]
  },
  {
   "cell_type": "code",
   "execution_count": null,
   "metadata": {},
   "outputs": [],
   "source": [
    "K_mid2_new = 50\n",
    "eta_output = 0.03\n",
    "accuracy_2mid =100* np.sum(np.load(f\"accuracy2mid_EWA_{K_mid2_new}_{eta_output}_10.npy\") )/ 10\n",
    "print(accuracy_2mid)\n",
    "\n",
    "K_mid2_new = 100\n",
    "accuracy_2mid =100* np.sum(np.load(f\"accuracy2mid_EWA_{K_mid2_new}_{eta_output}_10.npy\") )/ 10\n",
    "print(accuracy_2mid)\n",
    "\n",
    "K_mid2_new = 150\n",
    "accuracy_2mid =100* np.sum(np.load(f\"accuracy2mid_EWA_{K_mid2_new}_{eta_output}_10.npy\") )/ 10\n",
    "print(accuracy_2mid)"
   ]
  }
 ],
 "metadata": {
  "kernelspec": {
   "display_name": "base",
   "language": "python",
   "name": "python3"
  },
  "language_info": {
   "codemirror_mode": {
    "name": "ipython",
    "version": 3
   },
   "file_extension": ".py",
   "mimetype": "text/x-python",
   "name": "python",
   "nbconvert_exporter": "python",
   "pygments_lexer": "ipython3",
   "version": "3.11.4"
  }
 },
 "nbformat": 4,
 "nbformat_minor": 2
}
